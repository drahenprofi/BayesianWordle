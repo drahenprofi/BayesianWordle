{
 "cells": [
  {
   "cell_type": "code",
   "execution_count": 8,
   "id": "e799972e",
   "metadata": {},
   "outputs": [],
   "source": [
    "import requests\n",
    "from bs4 import BeautifulSoup\n",
    "\n",
    "urls = [\"worter5buchstaben\", \"worter5buchstabenseite2\", \"worter5buchstabenseite3\", \"worter5buchstabenseite4\", \n",
    "        \"worter5buchstabenseite5\", \"worter5buchstabenseite6\", \"worter5buchstabenseite7\", \"worter5buchstabenseite8\",\n",
    "        \"worter5buchstabenseite9\", \"worter5buchstabenseite10\", \"worter5buchstabenseite11\"]\n",
    "\n",
    "letters = [\"A\", \"B\", \"C\", \"D\", \"E\", \"F\", \"G\", \"H\", \"I\", \"J\", \"K\", \"L\", \"M\", \"N\", \"O\", \"P\", \"Q\", \"R\", \"S\", \"T\"\n",
    "           , \"U\", \"V\", \"W\", \"X\", \"Y\", \"Z\"]\n",
    "\n",
    "words = []\n",
    "\n",
    "for url in urls:\n",
    "    page = requests.get(\"https://www.wortlisten.com/\" + url + \".htm\")\n",
    "    soup = BeautifulSoup(page.content, 'html.parser')\n",
    "\n",
    "    for div in soup.find_all('span', class_='mot'):\n",
    "        for word in div.get_text().split(' '):\n",
    "            \n",
    "            is_valid = True\n",
    "            \n",
    "            for letter in word:\n",
    "                if not letter in letters:\n",
    "                    is_valid = False\n",
    "            \n",
    "            if is_valid:\n",
    "                words.append(word)"
   ]
  },
  {
   "cell_type": "code",
   "execution_count": 9,
   "id": "9cdd3541",
   "metadata": {},
   "outputs": [],
   "source": [
    "words2 = []\n",
    "\n",
    "for letter in letters:\n",
    "    url = \"https://worter-finden.de/worter-mit-5-buchstaben-anfang/\" + letter + \"/\"\n",
    "    page = requests.get(url)\n",
    "    soup = BeautifulSoup(page.content, 'html.parser')\n",
    "    \n",
    "    for div in soup.find_all(\"div\", class_=\"col-lg-3 col-md-4 col-sm-6 col-xs-12 bottom-buffer\"):\n",
    "        for p in div.findChildren(\"p\"):\n",
    "            for word in p.stripped_strings:\n",
    "                word = word.upper()\n",
    "                is_valid = True\n",
    "            \n",
    "                for letter in word:\n",
    "                    if not letter in letters:\n",
    "                        is_valid = False\n",
    "                \n",
    "                if len(word) != 5:\n",
    "                    is_valid = False\n",
    "                    \n",
    "                if is_valid:\n",
    "                    words2.append(word)"
   ]
  },
  {
   "cell_type": "code",
   "execution_count": 10,
   "id": "4d6cae5b",
   "metadata": {},
   "outputs": [],
   "source": [
    "words.extend(words2)\n",
    "words = list(set(words))"
   ]
  },
  {
   "cell_type": "code",
   "execution_count": 11,
   "id": "f6f3ae7e",
   "metadata": {},
   "outputs": [],
   "source": [
    "with open(\"words.csv\", \"w\") as out:\n",
    "    out.write(\"first,second,third,forth,fifth\\n\")\n",
    "    \n",
    "    for word in words:\n",
    "        characters = list(word)\n",
    "        if \"\\n\" in characters:\n",
    "            characters.remove(\"\\n\")\n",
    "        out.write(\",\".join(characters))\n",
    "        out.write(\"\\n\")"
   ]
  },
  {
   "cell_type": "code",
   "execution_count": null,
   "id": "2934afe4",
   "metadata": {},
   "outputs": [],
   "source": []
  }
 ],
 "metadata": {
  "kernelspec": {
   "display_name": "Python 3 (ipykernel)",
   "language": "python",
   "name": "python3"
  },
  "language_info": {
   "codemirror_mode": {
    "name": "ipython",
    "version": 3
   },
   "file_extension": ".py",
   "mimetype": "text/x-python",
   "name": "python",
   "nbconvert_exporter": "python",
   "pygments_lexer": "ipython3",
   "version": "3.10.5"
  }
 },
 "nbformat": 4,
 "nbformat_minor": 5
}
