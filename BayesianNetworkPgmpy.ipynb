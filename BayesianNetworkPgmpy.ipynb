{
 "cells": [
  {
   "cell_type": "code",
   "execution_count": 1,
   "id": "b2871908",
   "metadata": {},
   "outputs": [],
   "source": [
    "import numpy as np\n",
    "\n",
    "import pandas as pd\n",
    "\n",
    "from pgmpy.models import BayesianNetwork\n",
    "from pgmpy.factors.discrete import TabularCPD\n",
    "from pgmpy.inference import VariableElimination\n",
    "from pgmpy.estimators import MaximumLikelihoodEstimator\n",
    "\n",
    "import math\n",
    "\n",
    "import json"
   ]
  },
  {
   "cell_type": "code",
   "execution_count": 2,
   "id": "28c82318",
   "metadata": {},
   "outputs": [],
   "source": [
    "words = pd.read_csv(\"words.csv\")\n",
    "\n",
    "model = BayesianNetwork([\n",
    "    (\"first\", \"second\"), \n",
    "    (\"third\", \"second\"), \n",
    "    (\"third\", \"forth\"), \n",
    "    (\"fifth\", \"forth\")])\n",
    "\n",
    "model.fit(words, estimator=MaximumLikelihoodEstimator)"
   ]
  },
  {
   "cell_type": "code",
   "execution_count": 3,
   "id": "cf9263aa",
   "metadata": {},
   "outputs": [
    {
     "data": {
      "application/vnd.jupyter.widget-view+json": {
       "model_id": "b7ecf2178e2d4299baad9d89db46201b",
       "version_major": 2,
       "version_minor": 0
      },
      "text/plain": [
       "0it [00:00, ?it/s]"
      ]
     },
     "metadata": {},
     "output_type": "display_data"
    },
    {
     "data": {
      "application/vnd.jupyter.widget-view+json": {
       "model_id": "762c821f35b14d61aa2fb595a33a532a",
       "version_major": 2,
       "version_minor": 0
      },
      "text/plain": [
       "0it [00:00, ?it/s]"
      ]
     },
     "metadata": {},
     "output_type": "display_data"
    }
   ],
   "source": [
    "infer = VariableElimination(model)\n",
    "\n",
    "q = infer.query(\n",
    "    variables=[\"second\", \"forth\"], \n",
    "    evidence={\n",
    "        \"first\": \"S\", \n",
    "        \"third\": \"I\", \n",
    "        \"fifth\": \"R\"\n",
    "    }\n",
    ")"
   ]
  },
  {
   "cell_type": "code",
   "execution_count": 6,
   "id": "08854ca9",
   "metadata": {},
   "outputs": [],
   "source": [
    "def get_suggestion_word(suggestion, evidence):\n",
    "    word = [\"\", \"\", \"\", \"\", \"\"]\n",
    "    \n",
    "    if \"first\" in evidence:\n",
    "        word[0] = evidence[\"first\"]\n",
    "    else: \n",
    "        word[0] = suggestion[\"first\"]\n",
    "        \n",
    "    if \"second\" in evidence:\n",
    "        word[1] = evidence[\"second\"]\n",
    "    else:\n",
    "        word[1] = suggestion[\"second\"]\n",
    "    \n",
    "    if \"third\" in evidence:\n",
    "        word[2] = evidence[\"third\"]\n",
    "    else:\n",
    "        word[2] = suggestion[\"third\"]\n",
    "    \n",
    "    if \"forth\" in evidence:\n",
    "        word[3] = evidence[\"forth\"]\n",
    "    else:\n",
    "        word[3] = suggestion[\"forth\"]\n",
    "    \n",
    "    if \"fifth\" in evidence:\n",
    "        word[4] = evidence[\"fifth\"]\n",
    "    else:\n",
    "        word[4] = suggestion[\"fifth\"]\n",
    "        \n",
    "    return word\n",
    "\n",
    "def word_is_valid(word, words, must_contain=[], must_not_contain=[], must_not_contain_at={}):\n",
    "    if \"\".join(str(char) for char in word) in words:\n",
    "        for letter in must_contain:\n",
    "            if not letter in word:\n",
    "                return False\n",
    "            \n",
    "        for letter in must_not_contain:\n",
    "            if letter in word:\n",
    "                return False\n",
    "        \n",
    "        if \"first\" in must_not_contain_at and word[0] in must_not_contain_at[\"first\"]:\n",
    "            return False\n",
    "                \n",
    "        if \"second\" in must_not_contain_at and word[1] in must_not_contain_at[\"second\"]:\n",
    "            return False\n",
    "                \n",
    "        if \"third\" in must_not_contain_at and word[2] in must_not_contain_at[\"third\"]:\n",
    "            return False\n",
    "                \n",
    "        if \"forth\" in must_not_contain_at and word[3] in must_not_contain_at[\"forth\"]:\n",
    "            return False\n",
    "                \n",
    "        if \"fifth\" in must_not_contain_at and word[4] in must_not_contain_at[\"fifth\"]:\n",
    "            return False\n",
    "        \n",
    "        return True\n",
    "    else:\n",
    "        return False\n",
    "    \n",
    "def get_suggestion(variables, evidence, must_contain=[], must_not_contain=[], must_not_contain_at=[]):\n",
    "    q = infer.query(variables, evidence=evidence)\n",
    "    \n",
    "    count_predictions = len(q.values.flatten()[q.values.flatten() != 0])\n",
    "    max_value_indices = (-q.values.flatten()).argsort()[:count_predictions]\n",
    "\n",
    "    print(count_predictions)\n",
    "    \n",
    "    result = []\n",
    "    \n",
    "    with open(\"wordle-at-words.json\", \"r\") as f:\n",
    "        words = json.load(f)\n",
    "        \n",
    "        for max_value_index in max_value_indices:\n",
    "            indices = np.unravel_index(max_value_index, q.values.shape)\n",
    "\n",
    "            suggestion = {}\n",
    "\n",
    "            for index, variable in enumerate(q.variables):\n",
    "                suggestion[variable] = model.get_cpds(variable).state_names[variable][indices[index]]\n",
    "\n",
    "            word = get_suggestion_word(suggestion, evidence)\n",
    "\n",
    "            if word_is_valid(word, words, must_contain, must_not_contain, must_not_contain_at):\n",
    "                result.append(word)\n",
    "                return word\n",
    "            \n",
    "    return result"
   ]
  },
  {
   "cell_type": "markdown",
   "id": "755d1d75",
   "metadata": {},
   "source": [
    "### 1st guess"
   ]
  },
  {
   "cell_type": "code",
   "execution_count": 7,
   "id": "f550ea43",
   "metadata": {},
   "outputs": [
    {
     "data": {
      "application/vnd.jupyter.widget-view+json": {
       "model_id": "93a063e31a594d578b15903069f92ce2",
       "version_major": 2,
       "version_minor": 0
      },
      "text/plain": [
       "0it [00:00, ?it/s]"
      ]
     },
     "metadata": {},
     "output_type": "display_data"
    },
    {
     "data": {
      "application/vnd.jupyter.widget-view+json": {
       "model_id": "6998c24e02c04109b875b715ec07a423",
       "version_major": 2,
       "version_minor": 0
      },
      "text/plain": [
       "0it [00:00, ?it/s]"
      ]
     },
     "metadata": {},
     "output_type": "display_data"
    },
    {
     "name": "stdout",
     "output_type": "stream",
     "text": [
      "1966526\n"
     ]
    },
    {
     "data": {
      "text/plain": [
       "['F', 'E', 'T', 'T', 'E']"
      ]
     },
     "execution_count": 7,
     "metadata": {},
     "output_type": "execute_result"
    }
   ],
   "source": [
    "suggestion = get_suggestion(\n",
    "    variables=[\"first\", \"second\", \"third\", \"forth\", \"fifth\"], \n",
    "    evidence={\n",
    "    }, \n",
    "    must_contain=[],\n",
    "    must_not_contain=[\"S\", \"A\", \"B\", \"O\", \"R\"], \n",
    "    must_not_contain_at={\n",
    "        \"first\":[], \n",
    "        \"second\":[], \n",
    "        \"third\":[],\n",
    "        \"forth\":[],\n",
    "        \"fifth\":[]\n",
    "    }\n",
    ")\n",
    "\n",
    "suggestion"
   ]
  },
  {
   "cell_type": "markdown",
   "id": "e14c8671",
   "metadata": {},
   "source": [
    "### 2nd guess"
   ]
  },
  {
   "cell_type": "code",
   "execution_count": 10,
   "id": "7cfdb0e8",
   "metadata": {},
   "outputs": [
    {
     "data": {
      "application/vnd.jupyter.widget-view+json": {
       "model_id": "d2ad093a16804c0abd457163cf7eef24",
       "version_major": 2,
       "version_minor": 0
      },
      "text/plain": [
       "0it [00:00, ?it/s]"
      ]
     },
     "metadata": {},
     "output_type": "display_data"
    },
    {
     "data": {
      "application/vnd.jupyter.widget-view+json": {
       "model_id": "e0129d3ad49446d9880620368da06204",
       "version_major": 2,
       "version_minor": 0
      },
      "text/plain": [
       "0it [00:00, ?it/s]"
      ]
     },
     "metadata": {},
     "output_type": "display_data"
    },
    {
     "name": "stdout",
     "output_type": "stream",
     "text": [
      "38342\n"
     ]
    },
    {
     "data": {
      "text/plain": [
       "['P', 'U', 'D', 'L', 'E']"
      ]
     },
     "execution_count": 10,
     "metadata": {},
     "output_type": "execute_result"
    }
   ],
   "source": [
    "suggestion = get_suggestion(\n",
    "    variables=[\"first\", \"second\", \"third\", \"forth\"], \n",
    "    evidence={\n",
    "        \"fifth\": \"E\"\n",
    "    }, \n",
    "    must_contain=[],\n",
    "    must_not_contain=[\"S\", \"A\", \"B\", \"O\", \"R\", \"F\", \"T\"], \n",
    "    must_not_contain_at={\n",
    "        \"first\":[], \n",
    "        \"second\":[\"E\"], \n",
    "        \"third\":[],\n",
    "        \"forth\":[],\n",
    "        \"fifth\":[]\n",
    "    }\n",
    ")\n",
    "\n",
    "suggestion"
   ]
  },
  {
   "cell_type": "markdown",
   "id": "1c95258c",
   "metadata": {},
   "source": [
    "### 3rd guess"
   ]
  },
  {
   "cell_type": "code",
   "execution_count": 11,
   "id": "30ff7e53",
   "metadata": {},
   "outputs": [
    {
     "data": {
      "application/vnd.jupyter.widget-view+json": {
       "model_id": "dc336405edc549da98d69714768624fa",
       "version_major": 2,
       "version_minor": 0
      },
      "text/plain": [
       "0it [00:00, ?it/s]"
      ]
     },
     "metadata": {},
     "output_type": "display_data"
    },
    {
     "data": {
      "application/vnd.jupyter.widget-view+json": {
       "model_id": "001d89d1c027427ebb6dadb034df3678",
       "version_major": 2,
       "version_minor": 0
      },
      "text/plain": [
       "0it [00:00, ?it/s]"
      ]
     },
     "metadata": {},
     "output_type": "display_data"
    },
    {
     "name": "stdout",
     "output_type": "stream",
     "text": [
      "126\n"
     ]
    },
    {
     "data": {
      "text/plain": [
       "['P', 'U', 'M', 'P', 'E']"
      ]
     },
     "execution_count": 11,
     "metadata": {},
     "output_type": "execute_result"
    }
   ],
   "source": [
    "suggestion = get_suggestion(\n",
    "    variables=[\"third\", \"forth\"], \n",
    "    evidence={\n",
    "        \"first\": \"P\", \n",
    "        \"second\": \"U\", \n",
    "        \"fifth\": \"E\"\n",
    "    }, \n",
    "    must_contain=[],\n",
    "    must_not_contain=[\"S\", \"A\", \"B\", \"O\", \"R\", \"F\", \"T\", \"D\", \"L\"], \n",
    "    must_not_contain_at={\n",
    "        \"first\":[], \n",
    "        \"second\":[\"E\"], \n",
    "        \"third\":[],\n",
    "        \"forth\":[],\n",
    "        \"fifth\":[]\n",
    "    }\n",
    ")\n",
    "\n",
    "suggestion"
   ]
  },
  {
   "cell_type": "markdown",
   "id": "0cb51971",
   "metadata": {},
   "source": [
    "### 4th guess"
   ]
  },
  {
   "cell_type": "code",
   "execution_count": 13,
   "id": "c9dfb629",
   "metadata": {},
   "outputs": [
    {
     "data": {
      "application/vnd.jupyter.widget-view+json": {
       "model_id": "20ed840949b747b8b738b696aa7712c8",
       "version_major": 2,
       "version_minor": 0
      },
      "text/plain": [
       "0it [00:00, ?it/s]"
      ]
     },
     "metadata": {},
     "output_type": "display_data"
    },
    {
     "data": {
      "application/vnd.jupyter.widget-view+json": {
       "model_id": "e699df7e670544d4b482e69c2d15c9ec",
       "version_major": 2,
       "version_minor": 0
      },
      "text/plain": [
       "0it [00:00, ?it/s]"
      ]
     },
     "metadata": {},
     "output_type": "display_data"
    },
    {
     "name": "stdout",
     "output_type": "stream",
     "text": [
      "7\n"
     ]
    },
    {
     "data": {
      "text/plain": [
       "['P', 'U', 'P', 'P', 'E']"
      ]
     },
     "execution_count": 13,
     "metadata": {},
     "output_type": "execute_result"
    }
   ],
   "source": [
    "suggestion = get_suggestion(\n",
    "    variables=[\"third\"], \n",
    "    evidence={\n",
    "        \"first\": \"P\", \n",
    "        \"second\": \"U\",\n",
    "        \"forth\": \"P\",\n",
    "        \"fifth\": \"E\"\n",
    "    }, \n",
    "    must_contain=[],\n",
    "    must_not_contain=[\"S\", \"A\", \"B\", \"O\", \"R\", \"F\", \"T\", \"D\", \"L\", \"M\"], \n",
    "    must_not_contain_at={\n",
    "        \"first\":[], \n",
    "        \"second\":[\"E\"], \n",
    "        \"third\":[],\n",
    "        \"forth\":[],\n",
    "        \"fifth\":[]\n",
    "    }\n",
    ")\n",
    "\n",
    "suggestion"
   ]
  }
 ],
 "metadata": {
  "kernelspec": {
   "display_name": "Python 3 (ipykernel)",
   "language": "python",
   "name": "python3"
  },
  "language_info": {
   "codemirror_mode": {
    "name": "ipython",
    "version": 3
   },
   "file_extension": ".py",
   "mimetype": "text/x-python",
   "name": "python",
   "nbconvert_exporter": "python",
   "pygments_lexer": "ipython3",
   "version": "3.10.5"
  }
 },
 "nbformat": 4,
 "nbformat_minor": 5
}
