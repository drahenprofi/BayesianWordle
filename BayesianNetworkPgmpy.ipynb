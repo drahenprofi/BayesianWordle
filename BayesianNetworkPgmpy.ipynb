{
 "cells": [
  {
   "cell_type": "code",
   "execution_count": 2,
   "id": "b2871908",
   "metadata": {},
   "outputs": [],
   "source": [
    "import numpy as np\n",
    "\n",
    "import pandas as pd\n",
    "\n",
    "from pgmpy.models import BayesianNetwork\n",
    "from pgmpy.factors.discrete import TabularCPD\n",
    "from pgmpy.inference import VariableElimination\n",
    "from pgmpy.estimators import MaximumLikelihoodEstimator\n",
    "\n",
    "import math\n",
    "\n",
    "import json"
   ]
  },
  {
   "cell_type": "code",
   "execution_count": 3,
   "id": "28c82318",
   "metadata": {},
   "outputs": [],
   "source": [
    "words = pd.read_csv(\"wordle-at-words.csv\")\n",
    "\n",
    "model = BayesianNetwork([(\"first\", \"second\"), (\"third\", \"second\"), (\"third\", \"forth\"), (\"fifth\", \"forth\")])\n",
    "\n",
    "model.fit(words, estimator=MaximumLikelihoodEstimator)"
   ]
  },
  {
   "cell_type": "code",
   "execution_count": 4,
   "id": "cf9263aa",
   "metadata": {},
   "outputs": [],
   "source": [
    "infer = VariableElimination(model)\n",
    "evidence = {\"third\": \"N\", \"forth\": \"I\", \"fifth\": \"S\"}"
   ]
  },
  {
   "cell_type": "code",
   "execution_count": 5,
   "id": "08854ca9",
   "metadata": {},
   "outputs": [],
   "source": [
    "def get_suggestion_word(suggestion, evidence):\n",
    "    word = [\"\", \"\", \"\", \"\", \"\"]\n",
    "    \n",
    "    if \"first\" in evidence:\n",
    "        word[0] = evidence[\"first\"]\n",
    "    else: \n",
    "        word[0] = suggestion[\"first\"]\n",
    "        \n",
    "    if \"second\" in evidence:\n",
    "        word[1] = evidence[\"second\"]\n",
    "    else:\n",
    "        word[1] = suggestion[\"second\"]\n",
    "    \n",
    "    if \"third\" in evidence:\n",
    "        word[2] = evidence[\"third\"]\n",
    "    else:\n",
    "        word[2] = suggestion[\"third\"]\n",
    "    \n",
    "    if \"forth\" in evidence:\n",
    "        word[3] = evidence[\"forth\"]\n",
    "    else:\n",
    "        word[3] = suggestion[\"forth\"]\n",
    "    \n",
    "    if \"fifth\" in evidence:\n",
    "        word[4] = evidence[\"fifth\"]\n",
    "    else:\n",
    "        word[4] = suggestion[\"fifth\"]\n",
    "        \n",
    "    return word\n",
    "\n",
    "def word_is_valid(word, words, must_contain=[], must_not_contain=[], must_not_contain_at={}):\n",
    "    if \"\".join(str(char) for char in word) in words:\n",
    "        \n",
    "        for letter in must_contain:\n",
    "            if not letter in word:\n",
    "                return False\n",
    "        \n",
    "        for letter in must_not_contain:\n",
    "            if letter in word:\n",
    "                return False\n",
    "        \n",
    "        if \"first\" in must_not_contain_at and word[0] in must_not_contain_at[\"first\"]:\n",
    "            return False\n",
    "                \n",
    "        if \"second\" in must_not_contain_at and word[1] in must_not_contain_at[\"second\"]:\n",
    "            return False\n",
    "                \n",
    "        if \"third\" in must_not_contain_at and word[2] in must_not_contain_at[\"third\"]:\n",
    "            return False\n",
    "                \n",
    "        if \"forth\" in must_not_contain_at and word[3] in must_not_contain_at[\"forth\"]:\n",
    "            return False\n",
    "                \n",
    "        if \"fifth\" in must_not_contain_at and word[4] in must_not_contain_at[\"fifth\"]:\n",
    "            return False\n",
    "        \n",
    "        return True\n",
    "    else:\n",
    "        return False\n",
    "    \n",
    "def get_suggestion(infer, variables, evidence, must_contain=[], must_not_contain=[], must_not_contain_at=[]):\n",
    "    q = infer.query(variables, evidence=evidence)\n",
    "    \n",
    "    count_predictions = len(q.values.flatten()[q.values.flatten() != 0])\n",
    "    max_value_indices = (-q.values.flatten()).argsort()[:count_predictions]\n",
    "\n",
    "    print(count_predictions)\n",
    "    \n",
    "    result = []\n",
    "    \n",
    "    with open(\"wordle-at-words.json\", \"r\") as f:\n",
    "        words = json.load(f)\n",
    "        \n",
    "        for max_value_index in max_value_indices:\n",
    "            indices = np.unravel_index(max_value_index, q.values.shape)\n",
    "\n",
    "            suggestion = {}\n",
    "\n",
    "            for index, variable in enumerate(q.variables):\n",
    "                suggestion[variable] = model.get_cpds(variable).state_names[variable][indices[index]]\n",
    "\n",
    "            word = get_suggestion_word(suggestion, evidence)\n",
    "\n",
    "            if word_is_valid(word, words, must_contain, must_not_contain, must_not_contain_at):\n",
    "                #result.append(word)\n",
    "                return word\n",
    "            \n",
    "    return result"
   ]
  },
  {
   "cell_type": "code",
   "execution_count": 6,
   "id": "54fbb567",
   "metadata": {},
   "outputs": [
    {
     "data": {
      "application/vnd.jupyter.widget-view+json": {
       "model_id": "698c7f37083548eca224b9414f46242a",
       "version_major": 2,
       "version_minor": 0
      },
      "text/plain": [
       "0it [00:00, ?it/s]"
      ]
     },
     "metadata": {},
     "output_type": "display_data"
    },
    {
     "data": {
      "application/vnd.jupyter.widget-view+json": {
       "model_id": "755e43dc7c3245c5b9adf75cc0674ecc",
       "version_major": 2,
       "version_minor": 0
      },
      "text/plain": [
       "0it [00:00, ?it/s]"
      ]
     },
     "metadata": {},
     "output_type": "display_data"
    },
    {
     "data": {
      "application/vnd.jupyter.widget-view+json": {
       "model_id": "7dc3d8e65846401484b4e3b3d0d541a5",
       "version_major": 2,
       "version_minor": 0
      },
      "text/plain": [
       "  0%|          | 0/1 [00:00<?, ?it/s]"
      ]
     },
     "metadata": {},
     "output_type": "display_data"
    },
    {
     "data": {
      "application/vnd.jupyter.widget-view+json": {
       "model_id": "5d444055eb3a4267bf035c00e3e8c38b",
       "version_major": 2,
       "version_minor": 0
      },
      "text/plain": [
       "  0%|          | 0/1 [00:00<?, ?it/s]"
      ]
     },
     "metadata": {},
     "output_type": "display_data"
    },
    {
     "data": {
      "application/vnd.jupyter.widget-view+json": {
       "model_id": "7a861b5b6aa4497a8ffe0912eee852d7",
       "version_major": 2,
       "version_minor": 0
      },
      "text/plain": [
       "0it [00:00, ?it/s]"
      ]
     },
     "metadata": {},
     "output_type": "display_data"
    },
    {
     "data": {
      "application/vnd.jupyter.widget-view+json": {
       "model_id": "7ab6ef9c77ac4487afc3bd6fb5e280af",
       "version_major": 2,
       "version_minor": 0
      },
      "text/plain": [
       "0it [00:00, ?it/s]"
      ]
     },
     "metadata": {},
     "output_type": "display_data"
    },
    {
     "data": {
      "application/vnd.jupyter.widget-view+json": {
       "model_id": "ea2a1f9e345249bdbb01c5f55cde6679",
       "version_major": 2,
       "version_minor": 0
      },
      "text/plain": [
       "  0%|          | 0/1 [00:00<?, ?it/s]"
      ]
     },
     "metadata": {},
     "output_type": "display_data"
    },
    {
     "data": {
      "application/vnd.jupyter.widget-view+json": {
       "model_id": "21328a465ff34b038ca31503216c2a21",
       "version_major": 2,
       "version_minor": 0
      },
      "text/plain": [
       "  0%|          | 0/1 [00:00<?, ?it/s]"
      ]
     },
     "metadata": {},
     "output_type": "display_data"
    },
    {
     "data": {
      "application/vnd.jupyter.widget-view+json": {
       "model_id": "10dfd0e705c2408091f46ea8814ab3b4",
       "version_major": 2,
       "version_minor": 0
      },
      "text/plain": [
       "0it [00:00, ?it/s]"
      ]
     },
     "metadata": {},
     "output_type": "display_data"
    },
    {
     "data": {
      "application/vnd.jupyter.widget-view+json": {
       "model_id": "5ee1c7fdb7454391a2f770b640389150",
       "version_major": 2,
       "version_minor": 0
      },
      "text/plain": [
       "0it [00:00, ?it/s]"
      ]
     },
     "metadata": {},
     "output_type": "display_data"
    },
    {
     "name": "stdout",
     "output_type": "stream",
     "text": [
      "S A B E N\n"
     ]
    }
   ],
   "source": [
    "first = infer.map_query([\"first\"])[\"first\"]\n",
    "second = infer.map_query([\"second\"], evidence={\"first\": first})[\"second\"]\n",
    "third = infer.map_query([\"third\"], evidence={\"first\": first, \"second\": second})[\"third\"]\n",
    "forth = infer.map_query([\"forth\"], evidence={\"first\": first, \"second\": second, \"third\": third})[\"forth\"]\n",
    "fifth = infer.map_query([\"fifth\"], evidence={\"first\": first, \"second\": second, \"third\": third, \"forth\": forth})[\"fifth\"]\n",
    "\n",
    "print(first, second, third, forth, fifth)"
   ]
  },
  {
   "cell_type": "code",
   "execution_count": 7,
   "id": "c2c0621d",
   "metadata": {},
   "outputs": [
    {
     "data": {
      "text/html": [
       "<div>\n",
       "<style scoped>\n",
       "    .dataframe tbody tr th:only-of-type {\n",
       "        vertical-align: middle;\n",
       "    }\n",
       "\n",
       "    .dataframe tbody tr th {\n",
       "        vertical-align: top;\n",
       "    }\n",
       "\n",
       "    .dataframe thead th {\n",
       "        text-align: right;\n",
       "    }\n",
       "</style>\n",
       "<table border=\"1\" class=\"dataframe\">\n",
       "  <thead>\n",
       "    <tr style=\"text-align: right;\">\n",
       "      <th></th>\n",
       "      <th>first</th>\n",
       "      <th>second</th>\n",
       "      <th>third</th>\n",
       "      <th>forth</th>\n",
       "      <th>fifth</th>\n",
       "    </tr>\n",
       "  </thead>\n",
       "  <tbody>\n",
       "    <tr>\n",
       "      <th>3397</th>\n",
       "      <td>S</td>\n",
       "      <td>A</td>\n",
       "      <td>B</td>\n",
       "      <td>O</td>\n",
       "      <td>R</td>\n",
       "    </tr>\n",
       "  </tbody>\n",
       "</table>\n",
       "</div>"
      ],
      "text/plain": [
       "     first second third forth fifth\n",
       "3397     S      A     B     O     R"
      ]
     },
     "execution_count": 7,
     "metadata": {},
     "output_type": "execute_result"
    }
   ],
   "source": [
    "words[(words[\"first\"] == \"S\") & (words[\"second\"] == \"A\") & (words[\"third\"] == \"B\")]"
   ]
  },
  {
   "cell_type": "code",
   "execution_count": 12,
   "id": "f550ea43",
   "metadata": {},
   "outputs": [
    {
     "data": {
      "application/vnd.jupyter.widget-view+json": {
       "model_id": "112d56059d7f4360b9dd5b239994891f",
       "version_major": 2,
       "version_minor": 0
      },
      "text/plain": [
       "0it [00:00, ?it/s]"
      ]
     },
     "metadata": {},
     "output_type": "display_data"
    },
    {
     "data": {
      "application/vnd.jupyter.widget-view+json": {
       "model_id": "9b0d2848be9f434598dc3c704c29b77f",
       "version_major": 2,
       "version_minor": 0
      },
      "text/plain": [
       "0it [00:00, ?it/s]"
      ]
     },
     "metadata": {},
     "output_type": "display_data"
    },
    {
     "name": "stdout",
     "output_type": "stream",
     "text": [
      "1160\n"
     ]
    },
    {
     "data": {
      "text/plain": [
       "['L', 'I', 'E', 'F', 'E']"
      ]
     },
     "execution_count": 12,
     "metadata": {},
     "output_type": "execute_result"
    }
   ],
   "source": [
    "suggestions = get_suggestion(\n",
    "    infer, \n",
    "    variables=[\"first\", \"third\"], \n",
    "    evidence={\n",
    "        \"second\": \"I\",\n",
    "        \"forth\": \"F\",\n",
    "        \"fifth\":\"E\"\n",
    "    }, \n",
    "    must_contain=[\"F\"],\n",
    "    must_not_contain=[\"S\", \"A\", \"B\", \"O\", \"R\", \"T\", \"M\", \"U\"], \n",
    "    must_not_contain_at={\n",
    "        \"first\":[\"F\"], \n",
    "        \"second\":[], \n",
    "        \"third\":[\"F\"],\n",
    "        \"forth\":[],\n",
    "        \"fifth\":[]\n",
    "    }\n",
    ")\n",
    "\n",
    "suggestions"
   ]
  },
  {
   "cell_type": "code",
   "execution_count": null,
   "id": "9edc81ee",
   "metadata": {},
   "outputs": [],
   "source": []
  }
 ],
 "metadata": {
  "kernelspec": {
   "display_name": "Python 3 (ipykernel)",
   "language": "python",
   "name": "python3"
  },
  "language_info": {
   "codemirror_mode": {
    "name": "ipython",
    "version": 3
   },
   "file_extension": ".py",
   "mimetype": "text/x-python",
   "name": "python",
   "nbconvert_exporter": "python",
   "pygments_lexer": "ipython3",
   "version": "3.10.5"
  }
 },
 "nbformat": 4,
 "nbformat_minor": 5
}
