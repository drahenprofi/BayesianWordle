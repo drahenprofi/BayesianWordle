{
 "cells": [
  {
   "cell_type": "code",
   "execution_count": 9,
   "id": "8e18e7f2",
   "metadata": {},
   "outputs": [
    {
     "data": {
      "image/png": "[encoded data removed]",
      "text/plain": [
       "<IPython.core.display.Image object>"
      ]
     },
     "execution_count": 9,
     "metadata": {},
     "output_type": "execute_result"
    }
   ],
   "source": [
    "# LOL\n",
    "# https://math.stackexchange.com/questions/4456302/bayesian-network-for-wordle\n",
    "\n",
    "from IPython.display import Image\n",
    "Image(\"BayesianNetwork1.png\")"
   ]
  },
  {
   "cell_type": "code",
   "execution_count": 21,
   "id": "9669c832",
   "metadata": {},
   "outputs": [],
   "source": [
    "from pgmpy.models import BayesianNetwork\n",
    "from pgmpy.factors.discrete import TabularCPD"
   ]
  },
  {
   "cell_type": "code",
   "execution_count": 33,
   "id": "31a1777b",
   "metadata": {},
   "outputs": [],
   "source": [
    "model = BayesianNetwork([(\"1st\", \"2nd\"), (\"3rd\", \"2nd\"), (\"3rd\", \"4th\"), (\"5th\", \"4th\")])"
   ]
  },
  {
   "cell_type": "code",
   "execution_count": 30,
   "id": "56eadd42",
   "metadata": {},
   "outputs": [
    {
     "name": "stdout",
     "output_type": "stream",
     "text": [
      "[2955, 0.08243827591016878, 0.05844608732040731, 0.20170177151625052, 0.06988422374110755, 0.054958850606779186, 0.027200446366299345]\n"
     ]
    }
   ],
   "source": [
    "import json\n",
    "data = {}\n",
    "with open(\"probabilities.json\") as f:\n",
    "   data = json.load(f)\n",
    "\n",
    "print(data[\"A\"])"
   ]
  },
  {
   "cell_type": "code",
   "execution_count": 31,
   "id": "2ff38f97",
   "metadata": {},
   "outputs": [
    {
     "data": {
      "text/plain": [
       "[<TabularCPD representing P(1st:26) at 0x7fed150e4940>,\n",
       " <TabularCPD representing P(2nd:26) at 0x7fed150e3fd0>,\n",
       " <TabularCPD representing P(3rd:26) at 0x7fed150e4760>,\n",
       " <TabularCPD representing P(4th:26) at 0x7fed150e4910>,\n",
       " <TabularCPD representing P(5th:26) at 0x7fed150e49a0>]"
      ]
     },
     "execution_count": 31,
     "metadata": {},
     "output_type": "execute_result"
    }
   ],
   "source": [
    "cpd_1_data = []\n",
    "cpd_2_data = []\n",
    "cpd_3_data = []\n",
    "cpd_4_data = []\n",
    "cpd_5_data = []\n",
    "\n",
    "for key in data:\n",
    "    cpd_1_data.append([data[key][2]])\n",
    "    cpd_2_data.append([data[key][3]])\n",
    "    cpd_3_data.append([data[key][4]])\n",
    "    cpd_4_data.append([data[key][5]])\n",
    "    cpd_5_data.append([data[key][6]])\n",
    "    \n",
    "cpd_1 = TabularCPD(\"1st\", 26, cpd_1_data)\n",
    "cpd_2 = TabularCPD(\"2nd\", 26, cpd_2_data)\n",
    "cpd_3 = TabularCPD(\"3rd\", 26, cpd_3_data)\n",
    "cpd_4 = TabularCPD(\"4th\", 26, cpd_4_data)\n",
    "cpd_5 = TabularCPD(\"5th\", 26, cpd_5_data)\n",
    "\n",
    "model.add_cpds(cpd_1, cpd_2, cpd_3, cpd_4, cpd_5)\n",
    "\n",
    "model.get_cpds()"
   ]
  },
  {
   "cell_type": "code",
   "execution_count": 32,
   "id": "3ff40f49",
   "metadata": {},
   "outputs": [
    {
     "ename": "ValueError",
     "evalue": "CPD associated with 2nd doesn't have proper parents associated with it.",
     "output_type": "error",
     "traceback": [
      "\u001b[0;31m---------------------------------------------------------------------------\u001b[0m",
      "\u001b[0;31mValueError\u001b[0m                                Traceback (most recent call last)",
      "Input \u001b[0;32mIn [32]\u001b[0m, in \u001b[0;36m<cell line: 1>\u001b[0;34m()\u001b[0m\n\u001b[0;32m----> 1\u001b[0m \u001b[43mmodel\u001b[49m\u001b[38;5;241;43m.\u001b[39;49m\u001b[43mcheck_model\u001b[49m\u001b[43m(\u001b[49m\u001b[43m)\u001b[49m\n",
      "File \u001b[0;32m~/.local/lib/python3.10/site-packages/pgmpy/models/BayesianNetwork.py:417\u001b[0m, in \u001b[0;36mBayesianNetwork.check_model\u001b[0;34m(self)\u001b[0m\n\u001b[1;32m    415\u001b[0m \u001b[38;5;66;03m# Check if the evidence set of the CPD is same as it's parents.\u001b[39;00m\n\u001b[1;32m    416\u001b[0m \u001b[38;5;28;01mif\u001b[39;00m \u001b[38;5;28mset\u001b[39m(evidence) \u001b[38;5;241m!=\u001b[39m \u001b[38;5;28mset\u001b[39m(parents):\n\u001b[0;32m--> 417\u001b[0m     \u001b[38;5;28;01mraise\u001b[39;00m \u001b[38;5;167;01mValueError\u001b[39;00m(\n\u001b[1;32m    418\u001b[0m         \u001b[38;5;124mf\u001b[39m\u001b[38;5;124m\"\u001b[39m\u001b[38;5;124mCPD associated with \u001b[39m\u001b[38;5;132;01m{\u001b[39;00mnode\u001b[38;5;132;01m}\u001b[39;00m\u001b[38;5;124m doesn\u001b[39m\u001b[38;5;124m'\u001b[39m\u001b[38;5;124mt have proper parents associated with it.\u001b[39m\u001b[38;5;124m\"\u001b[39m\n\u001b[1;32m    419\u001b[0m     )\n\u001b[1;32m    421\u001b[0m \u001b[38;5;66;03m# Check if the values of the CPD sum to 1.\u001b[39;00m\n\u001b[1;32m    422\u001b[0m \u001b[38;5;28;01mif\u001b[39;00m \u001b[38;5;129;01mnot\u001b[39;00m cpd\u001b[38;5;241m.\u001b[39mis_valid_cpd():\n",
      "\u001b[0;31mValueError\u001b[0m: CPD associated with 2nd doesn't have proper parents associated with it."
     ]
    }
   ],
   "source": [
    "model.check_model()"
   ]
  },
  {
   "cell_type": "code",
   "execution_count": null,
   "id": "5a88ae0d",
   "metadata": {},
   "outputs": [],
   "source": []
  }
 ],
 "metadata": {
  "kernelspec": {
   "display_name": "Python 3 (ipykernel)",
   "language": "python",
   "name": "python3"
  },
  "language_info": {
   "codemirror_mode": {
    "name": "ipython",
    "version": 3
   },
   "file_extension": ".py",
   "mimetype": "text/x-python",
   "name": "python",
   "nbconvert_exporter": "python",
   "pygments_lexer": "ipython3",
   "version": "3.10.5"
  }
 },
 "nbformat": 4,
 "nbformat_minor": 5
}
