{
 "cells": [
  {
   "cell_type": "markdown",
   "id": "2f73cc57",
   "metadata": {},
   "source": [
    "## Preprocessing der heruntergeladenen Wortliste"
   ]
  },
  {
   "cell_type": "code",
   "execution_count": 1,
   "id": "f9b67325",
   "metadata": {},
   "outputs": [],
   "source": [
    "import json"
   ]
  },
  {
   "cell_type": "code",
   "execution_count": 2,
   "id": "46b273fa",
   "metadata": {},
   "outputs": [],
   "source": [
    "letters = [\"A\", \"B\", \"C\", \"D\", \"E\", \"F\", \"G\", \"H\", \"I\", \"J\", \"K\", \"L\", \"M\", \"N\", \"O\", \"P\", \"Q\", \"R\", \"S\", \"T\"\n",
    "           , \"U\", \"V\", \"W\", \"X\", \"Y\", \"Z\"]"
   ]
  },
  {
   "cell_type": "code",
   "execution_count": 3,
   "id": "0f7031cb",
   "metadata": {},
   "outputs": [],
   "source": [
    "with open(\"wordle-at-words.json\", \"r\") as f:\n",
    "    wordle_at_words = json.load(f)"
   ]
  },
  {
   "cell_type": "code",
   "execution_count": 4,
   "id": "b67bce8f",
   "metadata": {},
   "outputs": [],
   "source": [
    "valid_words = []\n",
    "\n",
    "for word in wordle_at_words:\n",
    "    is_valid = True\n",
    "    \n",
    "    for letter in word:\n",
    "        if not letter in letters:\n",
    "            is_valid = False\n",
    "    \n",
    "    if len(word) != 5:\n",
    "        is_valid = False\n",
    "        \n",
    "    if is_valid:\n",
    "        valid_words.append(word)"
   ]
  },
  {
   "cell_type": "code",
   "execution_count": 5,
   "id": "6e940c05",
   "metadata": {},
   "outputs": [],
   "source": [
    "with open(\"words.csv\", \"w\") as out:\n",
    "    out.write(\"first,second,third,forth,fifth\\n\")\n",
    "    \n",
    "    for word in valid_words:\n",
    "        characters = list(word)\n",
    "        if \"\\n\" in characters:\n",
    "            characters.remove(\"\\n\")\n",
    "        out.write(\",\".join(characters))\n",
    "        out.write(\"\\n\")"
   ]
  },
  {
   "cell_type": "code",
   "execution_count": 6,
   "id": "248440ad",
   "metadata": {},
   "outputs": [],
   "source": [
    "with open(\"words.json\", \"w\", encoding=\"utf-8\") as f:\n",
    "    json.dump(valid_words, f, ensure_ascii=False, indent=4)"
   ]
  }
 ],
 "metadata": {
  "kernelspec": {
   "display_name": "Python 3 (ipykernel)",
   "language": "python",
   "name": "python3"
  },
  "language_info": {
   "codemirror_mode": {
    "name": "ipython",
    "version": 3
   },
   "file_extension": ".py",
   "mimetype": "text/x-python",
   "name": "python",
   "nbconvert_exporter": "python",
   "pygments_lexer": "ipython3",
   "version": "3.10.5"
  }
 },
 "nbformat": 4,
 "nbformat_minor": 5
}
