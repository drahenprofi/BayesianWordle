{
 "cells": [
  {
   "cell_type": "code",
   "execution_count": 1,
   "id": "e799972e",
   "metadata": {},
   "outputs": [],
   "source": [
    "import requests\n",
    "from bs4 import BeautifulSoup\n",
    "\n",
    "urls = [\"worter5buchstaben\", \"worter5buchstabenseite2\", \"worter5buchstabenseite3\", \"worter5buchstabenseite4\", \n",
    "        \"worter5buchstabenseite5\", \"worter5buchstabenseite6\", \"worter5buchstabenseite7\", \"worter5buchstabenseite8\",\n",
    "        \"worter5buchstabenseite9\", \"worter5buchstabenseite10\", \"worter5buchstabenseite11\"]\n",
    "\n",
    "letters = [\"A\", \"B\", \"C\", \"D\", \"E\", \"F\", \"G\", \"H\", \"I\", \"J\", \"K\", \"L\", \"M\", \"N\", \"O\", \"P\", \"Q\", \"R\", \"S\", \"T\"\n",
    "           , \"U\", \"V\", \"W\", \"X\", \"Y\", \"Z\"]\n",
    "\n",
    "f = open(\"words.txt\", \"w\")\n",
    "\n",
    "for url in urls:\n",
    "    page = requests.get(\"https://www.wortlisten.com/\" + url + \".htm\")\n",
    "    soup = BeautifulSoup(page.content, 'html.parser')\n",
    "\n",
    "    for div in soup.find_all('span', class_='mot'):\n",
    "        for word in div.get_text().split(' '):\n",
    "            \n",
    "            is_valid = True\n",
    "            \n",
    "            for letter in word:\n",
    "                if not letter in letters:\n",
    "                    is_valid = False\n",
    "            \n",
    "            if is_valid:\n",
    "                f.write(word + \"\\n\")\n",
    "        \n",
    "f.close()"
   ]
  }
 ],
 "metadata": {
  "kernelspec": {
   "display_name": "Python 3 (ipykernel)",
   "language": "python",
   "name": "python3"
  },
  "language_info": {
   "codemirror_mode": {
    "name": "ipython",
    "version": 3
   },
   "file_extension": ".py",
   "mimetype": "text/x-python",
   "name": "python",
   "nbconvert_exporter": "python",
   "pygments_lexer": "ipython3",
   "version": "3.10.4"
  }
 },
 "nbformat": 4,
 "nbformat_minor": 5
}
